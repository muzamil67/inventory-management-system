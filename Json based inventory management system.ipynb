{
 "cells": [
  {
   "cell_type": "markdown",
   "id": "a7f56c02",
   "metadata": {},
   "source": [
    "# Generating Sales and Record file for the first time"
   ]
  },
  {
   "cell_type": "code",
   "execution_count": 5,
   "id": "4b0e0720",
   "metadata": {},
   "outputs": [],
   "source": [
    "fd = open('record.json', 'r')\n",
    "t = fd.read()\n",
    "fd.close()\n",
    "\n",
    "fd = open('record.json','w')\n",
    "fd.write(t)\n",
    "fd.close()\n",
    "\n",
    "sales = {}\n",
    "sales = json.dumps(sales)\n",
    "fd = open(\"sales.json\", 'w')\n",
    "fd.write(sales)\n",
    "fd.close()"
   ]
  },
  {
   "cell_type": "code",
   "execution_count": 4,
   "id": "8a5f8c15",
   "metadata": {},
   "outputs": [],
   "source": [
    "import json\n",
    "import time"
   ]
  },
  {
   "cell_type": "markdown",
   "id": "c389ae34",
   "metadata": {},
   "source": [
    "# loading inventory and convert into dictionary"
   ]
  },
  {
   "cell_type": "code",
   "execution_count": 10,
   "id": "7bcd77bd",
   "metadata": {},
   "outputs": [],
   "source": [
    "fd = open('record.json','r')\n",
    "t = fd.read()\n",
    "fd.close()\n",
    "dct = json.loads(t)"
   ]
  },
  {
   "cell_type": "markdown",
   "id": "b62b1e92",
   "metadata": {},
   "source": [
    "# loading sales and convert into dictionary"
   ]
  },
  {
   "cell_type": "code",
   "execution_count": 16,
   "id": "fb76603e",
   "metadata": {},
   "outputs": [],
   "source": [
    "fd = open(\"sales.json\", 'r')\n",
    "sl = fd.read()\n",
    "fd.close()\n",
    "sales = json.loads(sl)"
   ]
  },
  {
   "cell_type": "markdown",
   "id": "31f73573",
   "metadata": {},
   "source": [
    "# display all the products which are present in our inventory"
   ]
  },
  {
   "cell_type": "code",
   "execution_count": 36,
   "id": "bb5c0b90",
   "metadata": {},
   "outputs": [
    {
     "name": "stdout",
     "output_type": "stream",
     "text": [
      "**********************************************\n",
      "1001 {'name': 'Choco Cake', 'qn': 0, 'pr': 100}\n",
      "1002 {'name': 'Milk Cake', 'pr': 800, 'qn': 95}\n",
      "1003 {'name': 'Drink', 'pr': 85, 'qn': 100}\n",
      "1004 {'name': 'Candy', 'pr': 5, 'qn': 1000}\n",
      "1005 {'name': 'Pen', 'pr': 20, 'qn': 100}\n",
      "1006 {'name': 'Phone', 'pr': 50000, 'qn': 10}\n",
      "1007 {'name': 'Mic', 'pr': 1500, 'qn': 0}\n",
      "1008 {'name': 'Case', 'pr': 599, 'qn': 5}\n",
      "1009 {'name': 'Keyboard', 'pr': 1999, 'qn': 10}\n",
      "1010 {'name': 'laptop', 'pr': 20000, 'qn': 10}\n",
      "1011 {'name': 'mouse', 'pr': 500, 'qn': 27}\n",
      "******************************************\n",
      "\n"
     ]
    }
   ],
   "source": [
    "print(\"**********************************************\")\n",
    "for i in dct.keys():\n",
    "    print(i, dct[i])\n",
    "print(\"******************************************\\n\")"
   ]
  },
  {
   "cell_type": "markdown",
   "id": "8f6af8fd",
   "metadata": {},
   "source": [
    "# purchase the products from inventory."
   ]
  },
  {
   "cell_type": "code",
   "execution_count": 33,
   "id": "e02967b9",
   "metadata": {},
   "outputs": [
    {
     "name": "stdout",
     "output_type": "stream",
     "text": [
      "Enter the product_Id: 1011\n",
      "Enter the quantity: 3\n",
      "Name: mouse\n",
      "Price: 500\n",
      "Entered Quantity:3\n",
      "------------------------------\n",
      "Billing Amount: 1500\n",
      "***************************\n",
      "Data Updated in Sales File!\n",
      "Data Updated in Inventory File!\n"
     ]
    }
   ],
   "source": [
    "# Take Input from User to Enter what he/she wants to purchase\n",
    "pid  = str(input(\"Enter the product_Id: \"))\n",
    "quant = int(input(\"Enter the quantity: \"))\n",
    "if (pid in dct.keys()):\n",
    "    if (dct[pid]['qn'] >=quant):\n",
    "        print(\"Name:\",dct[pid]['name'])\n",
    "        print(\"Price:\",dct[pid]['pr'])\n",
    "        print(f\"Entered Quantity:{quant}\")\n",
    "        print(\"------------------------------\")\n",
    "        print(\"Billing Amount:\", dct[pid]['pr'] * quant)\n",
    "        dct[pid]['qn'] = dct[pid]['qn'] - quant\n",
    "        \n",
    "        # update transaction\n",
    "        sales[str(len(sales)+1)] = {'prod_id' : pid,                         \n",
    "                                  \"time_pr\" :  time.ctime(), \n",
    "                                  'bill' : dct[pid]['pr'] * quant, \n",
    "                                  'qn' : quant, \n",
    "                                  'pr' : dct[pid]['pr'], \n",
    "                                  'pr_name' : dct[pid]['name']}        \n",
    "    else:\n",
    "        print(\"Sorry, We are not having that much of quantity.\")\n",
    "        print(\"We're only having\",dct[pid]['qn'],\"quantity.\")\n",
    "        print(\"Would you like to purchase or not (Y/N)\")\n",
    "        \n",
    "        ch = str(input(\"Y/N\"))\n",
    "        if (ch == \"Y\"):\n",
    "            print(\"Name:\",dct[pid]['name'])\n",
    "            print(\"Price:\",dct[pid]['pr'])\n",
    "            print(\"Quantity:\", dct[pid]['qn'])\n",
    "            print(\"------------------------------\")\n",
    "            print(\"Billing Amount:\", dct[pid]['pr'] * dct[pid]['qn'])\n",
    "            dct[pid]['qn'] = 0 \n",
    "            \n",
    "            # Updating Transection\n",
    "            sales[str(len(sales)+1)] = {'prod_id' : pid,                       \n",
    "                                    \"time_pr\" :  time.ctime(), \n",
    "                                    'bill' : dct[pid]['pr'] * dct[pid]['qn'], \n",
    "                                    'qn' : dct[pid]['qn'], \n",
    "                                    'pr' : dct[pid]['pr'], \n",
    "                                    'pr_name' : dct[pid]['name']}\n",
    "\n",
    "        else:\n",
    "            print(\"Thankyou!\")\n",
    "# when user enter wrong pid which is not available in inventory            \n",
    "else:\n",
    "    print(\"------------------------------\")\n",
    "    print(\"Product doesn't exist!\")\n",
    "    print(\"Please enter a valid product id\")\n",
    "    print(\"------------------------------\")\n",
    "\n",
    "# Updating Sales File when user have buy some products\n",
    "sl = json.dumps(sales)                                                         \n",
    "fd = open('sales.json','w')\n",
    "fd.write(sl)\n",
    "fd.close()\n",
    "\n",
    "print(\"***************************\")\n",
    "print(\"Data Updated in Sales File!\")\n",
    "# update the record file\n",
    "js = json.dumps(dct)                                                          \n",
    "fd = open('record.json','w')\n",
    "fd.write(js)\n",
    "fd.close()\n",
    "print(\"Data Updated in Inventory File!\")\n"
   ]
  },
  {
   "cell_type": "markdown",
   "id": "58a4cb7c",
   "metadata": {},
   "source": [
    "# add products in the inventory"
   ]
  },
  {
   "cell_type": "code",
   "execution_count": 32,
   "id": "2450c799",
   "metadata": {},
   "outputs": [
    {
     "name": "stdout",
     "output_type": "stream",
     "text": [
      "Enter product id:1011\n",
      "Enter name:mouse\n",
      "Enter price:500\n",
      "Enter quantity:30\n",
      "*******************\n",
      "product is added in the inventory\n"
     ]
    }
   ],
   "source": [
    "pid= str(input(\"Enter product id:\"))\n",
    "name = str(input(\"Enter name:\"))\n",
    "pr = int(input(\"Enter price:\"))\n",
    "qn = int(input(\"Enter quantity:\"))\n",
    "\n",
    "dct[pid] = {'name': name, 'pr': pr, 'qn': qn}\n",
    "\n",
    "js = json.dumps(dct)\n",
    "\n",
    "fd = open(\"record.json\",'w')\n",
    "fd.write(js)\n",
    "fd.close()\n",
    "print(\"*******************\")\n",
    "print(\"product is added in the inventory\")"
   ]
  },
  {
   "cell_type": "code",
   "execution_count": 34,
   "id": "4e01c5c3",
   "metadata": {},
   "outputs": [
    {
     "data": {
      "text/plain": [
       "{'1001': {'name': 'Choco Cake', 'qn': 0, 'pr': 100},\n",
       " '1002': {'name': 'Milk Cake', 'pr': 800, 'qn': 95},\n",
       " '1003': {'name': 'Drink', 'pr': 85, 'qn': 100},\n",
       " '1004': {'name': 'Candy', 'pr': 5, 'qn': 1000},\n",
       " '1005': {'name': 'Pen', 'pr': 20, 'qn': 100},\n",
       " '1006': {'name': 'Phone', 'pr': 50000, 'qn': 10},\n",
       " '1007': {'name': 'Mic', 'pr': 1500, 'qn': 0},\n",
       " '1008': {'name': 'Case', 'pr': 599, 'qn': 5},\n",
       " '1009': {'name': 'Keyboard', 'pr': 1999, 'qn': 10},\n",
       " '1010': {'name': 'laptop', 'pr': 20000, 'qn': 10},\n",
       " '1011': {'name': 'mouse', 'pr': 500, 'qn': 27}}"
      ]
     },
     "execution_count": 34,
     "metadata": {},
     "output_type": "execute_result"
    }
   ],
   "source": [
    "dct"
   ]
  },
  {
   "cell_type": "code",
   "execution_count": 35,
   "id": "9ff86b42",
   "metadata": {
    "scrolled": true
   },
   "outputs": [
    {
     "data": {
      "text/plain": [
       "{'1': {'prod_id': '1002',\n",
       "  'time_pr': 'Fri Sep 24 10:54:38 2021',\n",
       "  'bill': 4000,\n",
       "  'qn': 5,\n",
       "  'pr': 800,\n",
       "  'pr_name': 'Milk Cake'},\n",
       " '2': {'prod_id': '1011',\n",
       "  'time_pr': 'Fri Sep 24 11:12:51 2021',\n",
       "  'bill': 1500,\n",
       "  'qn': 3,\n",
       "  'pr': 500,\n",
       "  'pr_name': 'mouse'}}"
      ]
     },
     "execution_count": 35,
     "metadata": {},
     "output_type": "execute_result"
    }
   ],
   "source": [
    "sales"
   ]
  },
  {
   "cell_type": "markdown",
   "id": "e4e0dee9",
   "metadata": {},
   "source": [
    "# delete the product from inventory"
   ]
  },
  {
   "cell_type": "code",
   "execution_count": 38,
   "id": "b40edce0",
   "metadata": {},
   "outputs": [],
   "source": [
    "del dct['1001']"
   ]
  },
  {
   "cell_type": "code",
   "execution_count": 39,
   "id": "f3914a94",
   "metadata": {},
   "outputs": [
    {
     "data": {
      "text/plain": [
       "{'1002': {'name': 'Milk Cake', 'pr': 800, 'qn': 95},\n",
       " '1003': {'name': 'Drink', 'pr': 85, 'qn': 100},\n",
       " '1004': {'name': 'Candy', 'pr': 5, 'qn': 1000},\n",
       " '1005': {'name': 'Pen', 'pr': 20, 'qn': 100},\n",
       " '1006': {'name': 'Phone', 'pr': 50000, 'qn': 10},\n",
       " '1007': {'name': 'Mic', 'pr': 1500, 'qn': 0},\n",
       " '1008': {'name': 'Case', 'pr': 599, 'qn': 5},\n",
       " '1009': {'name': 'Keyboard', 'pr': 1999, 'qn': 10},\n",
       " '1010': {'name': 'laptop', 'pr': 20000, 'qn': 10},\n",
       " '1011': {'name': 'mouse', 'pr': 500, 'qn': 27}}"
      ]
     },
     "execution_count": 39,
     "metadata": {},
     "output_type": "execute_result"
    }
   ],
   "source": [
    "dct"
   ]
  },
  {
   "cell_type": "code",
   "execution_count": null,
   "id": "b0db72ff",
   "metadata": {},
   "outputs": [],
   "source": []
  }
 ],
 "metadata": {
  "kernelspec": {
   "display_name": "Python 3",
   "language": "python",
   "name": "python3"
  },
  "language_info": {
   "codemirror_mode": {
    "name": "ipython",
    "version": 3
   },
   "file_extension": ".py",
   "mimetype": "text/x-python",
   "name": "python",
   "nbconvert_exporter": "python",
   "pygments_lexer": "ipython3",
   "version": "3.8.8"
  }
 },
 "nbformat": 4,
 "nbformat_minor": 5
}
